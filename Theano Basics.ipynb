{
 "cells": [
  {
   "cell_type": "code",
   "execution_count": 17,
   "metadata": {
    "collapsed": false
   },
   "outputs": [],
   "source": [
    "import numpy as np"
   ]
  },
  {
   "cell_type": "code",
   "execution_count": 18,
   "metadata": {
    "collapsed": false
   },
   "outputs": [
    {
     "data": {
      "text/plain": [
       "array([[  2.,   4.],\n",
       "       [  6.,   8.],\n",
       "       [ 10.,  12.]])"
      ]
     },
     "execution_count": 18,
     "metadata": {},
     "output_type": "execute_result"
    }
   ],
   "source": [
    "# Top of http://deeplearning.net/software/theano/tutorial/adding.html\n",
    "a = np.asarray([[1., 2], [3, 4], [5, 6]])\n",
    "b = 2.0\n",
    "a * b"
   ]
  },
  {
   "cell_type": "code",
   "execution_count": 19,
   "metadata": {
    "collapsed": false
   },
   "outputs": [
    {
     "data": {
      "text/plain": [
       "array(5.0)"
      ]
     },
     "execution_count": 19,
     "metadata": {},
     "output_type": "execute_result"
    }
   ],
   "source": [
    "import theano.tensor as T\n",
    "from theano import function\n",
    "# x, y, and z are all \"variables\"\n",
    "x = T.dscalar('x') # (d)ouble (scalar) \n",
    "y = T.dscalar('y')\n",
    "z = x + y\n",
    "f = function([x, y], z)\n",
    "f(2, 3)"
   ]
  },
  {
   "cell_type": "code",
   "execution_count": 20,
   "metadata": {
    "collapsed": false
   },
   "outputs": [
    {
     "name": "stdout",
     "output_type": "stream",
     "text": [
      "<class 'theano.tensor.var.TensorVariable'>\n",
      "TensorType(float64, scalar)\n",
      "TensorType(float64, scalar)\n"
     ]
    },
    {
     "data": {
      "text/plain": [
       "True"
      ]
     },
     "execution_count": 20,
     "metadata": {},
     "output_type": "execute_result"
    }
   ],
   "source": [
    "# Theano has a concept of types that is separate from the Python type system\n",
    "print(type(x))\n",
    "print(x.type)\n",
    "print(T.dscalar)\n",
    "x.type is T.dscalar"
   ]
  },
  {
   "cell_type": "code",
   "execution_count": 21,
   "metadata": {
    "collapsed": false
   },
   "outputs": [
    {
     "data": {
      "text/plain": [
       "'(x + y)'"
      ]
     },
     "execution_count": 21,
     "metadata": {},
     "output_type": "execute_result"
    }
   ],
   "source": [
    "from theano import pp\n",
    "pp(z) # pretty print"
   ]
  },
  {
   "cell_type": "code",
   "execution_count": 22,
   "metadata": {
    "collapsed": false
   },
   "outputs": [
    {
     "data": {
      "text/plain": [
       "True"
      ]
     },
     "execution_count": 22,
     "metadata": {},
     "output_type": "execute_result"
    }
   ],
   "source": [
    "# variable.eval() can be used instead of creating a function object\n",
    "z.eval({x : 2, y : 3}) == function([x, y], z)(2, 3)"
   ]
  },
  {
   "cell_type": "code",
   "execution_count": 23,
   "metadata": {
    "collapsed": false,
    "scrolled": true
   },
   "outputs": [
    {
     "name": "stdout",
     "output_type": "stream",
     "text": [
      "[[ 11.  22.]\n",
      " [ 33.  44.]]\n",
      "[[ 11.  22.  33.]\n",
      " [ 44.  55.  66.]\n",
      " [ 77.  88.  99.]]\n",
      "Only works on compatible matrix types.\n"
     ]
    }
   ],
   "source": [
    "x = T.dmatrix('x') #(d)ouble (matrix)\n",
    "y = T.dmatrix('y')\n",
    "z = x + y\n",
    "f = function([x, y], z)\n",
    "print(f([[1, 2], [3, 4]], [[10, 20], [30, 40]]))\n",
    "print(f([[1, 2, 3], [4, 5, 6], [7, 8, 9]], [[10, 20, 30], [40, 50, 60], [70, 80, 90]]))\n",
    "try:\n",
    "    print(f([[1, 2], [3, 4]], [[10, 20, 30], [40, 50, 60], [70, 80, 90]]))\n",
    "except Exception:\n",
    "    print(\"Only works on compatible matrix types.\")"
   ]
  },
  {
   "cell_type": "code",
   "execution_count": 24,
   "metadata": {
    "collapsed": false
   },
   "outputs": [
    {
     "data": {
      "text/plain": [
       "array([  121.,   484.,  1089.])"
      ]
     },
     "execution_count": 24,
     "metadata": {},
     "output_type": "execute_result"
    }
   ],
   "source": [
    "# exercise at the bottom of http://deeplearning.net/software/theano/tutorial/adding.html\n",
    "a = T.vector()\n",
    "b = T.vector()\n",
    "out = a ** 2 + b ** 2 + 2 * a * b\n",
    "f = function([a, b], out)\n",
    "f([1, 2, 3], [10, 20, 30])"
   ]
  },
  {
   "cell_type": "code",
   "execution_count": 25,
   "metadata": {
    "collapsed": false
   },
   "outputs": [
    {
     "data": {
      "text/plain": [
       "array([  121.,   484.,  1089.])"
      ]
     },
     "execution_count": 25,
     "metadata": {},
     "output_type": "execute_result"
    }
   ],
   "source": [
    "f = function([a, b], a ** 2 + b ** 2 + 2 * a * b)\n",
    "f([1, 2, 3], [10, 20, 30])"
   ]
  },
  {
   "cell_type": "code",
   "execution_count": 33,
   "metadata": {
    "collapsed": false
   },
   "outputs": [
    {
     "data": {
      "text/plain": [
       "array([[ True,  True],\n",
       "       [ True,  True]], dtype=bool)"
      ]
     },
     "execution_count": 33,
     "metadata": {},
     "output_type": "execute_result"
    }
   ],
   "source": [
    "# top of http://deeplearning.net/software/theano/tutorial/examples.html\n",
    "x = T.dmatrix('x')\n",
    "\n",
    "s = 1 / (1 + T.exp(-x))\n",
    "logistic = function([x], s)\n",
    "\n",
    "s_equivalent = (1 + T.tanh(x / 2)) / 2 # equal to 1 / (1 + T.exp(-x))\n",
    "logistic_equivalent = function([x], s)\n",
    "\n",
    "logistic([[-1, 0], [1, 999]]) == logistic_equivalent([[-1, 0], [1, 999]])"
   ]
  },
  {
   "cell_type": "code",
   "execution_count": 37,
   "metadata": {
    "collapsed": false
   },
   "outputs": [
    {
     "data": {
      "text/plain": [
       "[array([[ 1.,  0.],\n",
       "        [-1., -2.]]), array([[ 1.,  0.],\n",
       "        [ 1.,  2.]]), array([[ 1.,  0.],\n",
       "        [ 1.,  4.]])]"
      ]
     },
     "execution_count": 37,
     "metadata": {},
     "output_type": "execute_result"
    }
   ],
   "source": [
    "a, b = T.dmatrices('a', 'b')\n",
    "diff = a - b\n",
    "abs_diff = abs(diff)\n",
    "diff_squared = diff ** 2\n",
    "f = function([a, b], [diff, abs_diff, diff_squared])\n",
    "f([[1, 1], [1, 1]], [[0, 1,], [2, 3]])"
   ]
  },
  {
   "cell_type": "code",
   "execution_count": 42,
   "metadata": {
    "collapsed": false
   },
   "outputs": [
    {
     "data": {
      "text/plain": [
       "False"
      ]
     },
     "execution_count": 42,
     "metadata": {},
     "output_type": "execute_result"
    }
   ],
   "source": [
    "from theano import Param\n",
    "x, y = T.dscalars('x', 'y')\n",
    "z = x + y\n",
    "f = function([x, Param(y, default=1, name='y_value')], z)\n",
    "f(33) == f(33, 1) == f(33, y_value=1)"
   ]
  },
  {
   "cell_type": "code",
   "execution_count": 48,
   "metadata": {
    "collapsed": false
   },
   "outputs": [],
   "source": [
    "from theano import shared\n",
    "state = shared(0)\n",
    "inc = T.iscalar('inc')\n",
    "accumulator = function([inc], state, updates=[(state, state+inc)])"
   ]
  },
  {
   "cell_type": "code",
   "execution_count": 62,
   "metadata": {
    "collapsed": false
   },
   "outputs": [
    {
     "name": "stdout",
     "output_type": "stream",
     "text": [
      "0\n",
      "2\n",
      "-3\n"
     ]
    }
   ],
   "source": [
    "state.set_value(0)\n",
    "# Functions' updates are computed after the return value\n",
    "print(accumulator(2))\n",
    "print(state.get_value())\n",
    "# Multiple functions can use the same shared variables\n",
    "decrementor = function([inc], state, updates=[(state, state - inc)])\n",
    "decrementor(5)\n",
    "print(state.get_value())"
   ]
  },
  {
   "cell_type": "code",
   "execution_count": 65,
   "metadata": {
    "collapsed": false
   },
   "outputs": [
    {
     "data": {
      "text/plain": [
       "array(7)"
      ]
     },
     "execution_count": 65,
     "metadata": {},
     "output_type": "execute_result"
    }
   ],
   "source": [
    "state.set_value(10)\n",
    "fn_of_state = state * 2 + inc\n",
    "foo = T.scalar(dtype=state.dtype)\n",
    "# We can substitute a different (non-shared) value for state with the givens parameter\n",
    "skip_shared = function([inc, foo], fn_of_state, givens=[(state, foo)])\n",
    "skip_shared(1, 3)"
   ]
  },
  {
   "cell_type": "code",
   "execution_count": 69,
   "metadata": {
    "collapsed": false
   },
   "outputs": [],
   "source": [
    "from theano.tensor.shared_randomstreams import RandomStreams\n",
    "srng = RandomStreams(seed=234)\n",
    "rv_u = srng.uniform((2,2)) # Random stream of 2 x 2 matricies, uniform distribution\n",
    "rv_n = srng.normal((2,2)) # \"\"\"\"\"\", normal distribution\n",
    "f = function([], rv_u)\n",
    "g = function([], rv_n, no_default_updates=True) # Don't update rv_n.rng\n",
    "nearly_zeros = function([], rv_u + rv_u - 2 * rv_u) # random variables are drawn up to once per function execution"
   ]
  },
  {
   "cell_type": "code",
   "execution_count": 85,
   "metadata": {
    "collapsed": false
   },
   "outputs": [
    {
     "name": "stdout",
     "output_type": "stream",
     "text": [
      "[[ True  True]\n",
      " [ True  True]]\n",
      "[[ True  True]\n",
      " [ True  True]]\n"
     ]
    },
    {
     "data": {
      "text/plain": [
       "array([[ 0.,  0.],\n",
       "       [ 0.,  0.]])"
      ]
     },
     "execution_count": 85,
     "metadata": {},
     "output_type": "execute_result"
    }
   ],
   "source": [
    "print(f() != f()) # because it gets new random numbers from rv_u each time.\n",
    "print(g() == g()) # because of no_default_updates=True\n",
    "nearly_zeros()"
   ]
  },
  {
   "cell_type": "code",
   "execution_count": 90,
   "metadata": {
    "collapsed": false
   },
   "outputs": [],
   "source": [
    "rng_val = rv_u.rng.get_value(borrow=True)\n",
    "rng_val.seed(89234) # seed just this RandomVariable\n",
    "rv_u.rng.set_value(rng_val, borrow=True) \n",
    "\n",
    "srng.seed(902340) # seed all RandomVariables generated from this RandomStreams object"
   ]
  },
  {
   "cell_type": "code",
   "execution_count": 96,
   "metadata": {
    "collapsed": false
   },
   "outputs": [
    {
     "name": "stdout",
     "output_type": "stream",
     "text": [
      "<class 'theano.tensor.shared_randomstreams.RandomStateSharedVariable'>\n",
      "<class 'theano.tensor.var.TensorVariable'>\n",
      "TensorType(float64, matrix)\n",
      "[[False False]\n",
      " [False False]]\n",
      "[[ True  True]\n",
      " [ True  True]]\n"
     ]
    }
   ],
   "source": [
    "print(type(rv_u.rng))\n",
    "print(type(rv_u))\n",
    "print(rv_u.type)\n",
    "state_after_v0 = rv_u.rng.get_value().get_state() # get the state of the RandomVariable's RandomStateSharedVariable\n",
    "nearly_zeros() # a function of rv_u, mutates rng state\n",
    "v1 = f() # another function of rv_u, mutates rng state again\n",
    "rng = rv_u.rng.get_value(borrow=True)\n",
    "rng.set_state(state_after_v0) # reset state to what it was before first call\n",
    "v2 = f()\n",
    "v3 = f()\n",
    "print(v1 == v2)\n",
    "print(v1 == v3)"
   ]
  },
  {
   "cell_type": "code",
   "execution_count": 98,
   "metadata": {
    "collapsed": false
   },
   "outputs": [
    {
     "name": "stdout",
     "output_type": "stream",
     "text": [
      "[[-0.33958566  1.27972992 -0.37144821 ...,  0.20457656  0.53453305\n",
      "  -0.89975428]\n",
      " [ 0.78945779 -1.83471234 -0.25209104 ..., -1.15327486  1.78315592\n",
      "  -1.28715615]\n",
      " [ 0.2642788  -0.88144434  1.33455167 ...,  1.26753702  0.12762584\n",
      "   0.42110784]\n",
      " ..., \n",
      " [-0.44994598  0.32938914  1.06301556 ...,  0.8707819  -0.80402583\n",
      "   0.69823589]\n",
      " [-0.22155954 -0.1023591   1.52106166 ..., -0.87692838  0.83187175\n",
      "   0.65338707]\n",
      " [ 0.07692688  0.14297505  1.23900627 ...,  0.68234504 -0.48828068\n",
      "   0.73131244]]\n",
      "[0 0 0 0 1 0 0 1 0 0 1 0 0 0 0 1 1 1 1 0 0 0 0 0 1 0 1 1 1 1 0 0 1 1 1 0 1\n",
      " 1 0 1 1 1 1 1 0 0 1 1 0 1 0 1 1 1 1 1 1 1 1 1 0 0 1 0 1 1 0 0 1 0 1 1 1 1\n",
      " 0 0 0 1 1 0 1 1 0 0 0 1 1 1 1 0 1 1 1 1 0 1 1 0 1 1 0 0 1 0 0 1 0 1 0 0 0\n",
      " 1 0 1 1 1 0 0 0 1 0 1 1 0 0 1 0 1 1 0 0 0 1 0 0 0 1 1 1 0 0 1 1 0 0 1 1 0\n",
      " 0 0 1 0 1 0 1 0 1 0 0 1 0 0 0 0 1 1 1 0 0 0 0 0 0 0 0 0 1 0 0 1 0 1 0 1 1\n",
      " 1 1 1 1 1 1 0 0 0 0 1 1 1 0 1 1 1 0 0 0 1 1 1 1 1 0 1 0 0 1 0 1 1 0 0 0 0\n",
      " 0 1 0 1 1 0 1 0 0 1 1 0 1 0 1 0 0 0 1 0 1 1 0 0 0 0 1 0 0 1 0 0 1 1 0 0 1\n",
      " 0 0 0 1 1 0 0 0 1 0 1 0 0 1 0 1 0 0 0 0 1 1 0 1 0 1 0 0 1 1 1 0 0 1 1 0 0\n",
      " 1 1 0 1 0 0 0 1 0 1 0 0 0 0 1 1 1 1 1 0 1 0 1 0 0 0 0 0 1 1 1 1 1 0 0 0 0\n",
      " 0 0 0 1 0 0 0 1 1 0 1 1 0 1 0 1 1 1 1 0 1 0 0 0 1 0 0 1 1 0 1 1 1 0 0 0 0\n",
      " 1 1 0 1 1 1 0 0 0 0 0 0 0 1 1 0 1 0 0 0 0 0 1 1 1 0 0 1 1 0]\n"
     ]
    }
   ],
   "source": [
    "rng = np.random\n",
    "\n",
    "N = 400\n",
    "feature_count = 784\n",
    "# initalize a tuple for the data, D, where D[0] is a matrix of the examples (N x features) and D[1] is a list of labels (0 or 1) \n",
    "D = (rng.randn(N, feature_count), rng.randint(size=N, low=0, high=2))\n",
    "#print(rng.randn(N, feature_count)) # Examples\n",
    "#print(rng.randint(size=N, low=0, high=2)) # Labels\n",
    "\n"
   ]
  }
 ],
 "metadata": {
  "kernelspec": {
   "display_name": "Python 3",
   "language": "python",
   "name": "python3"
  },
  "language_info": {
   "codemirror_mode": {
    "name": "ipython",
    "version": 3
   },
   "file_extension": ".py",
   "mimetype": "text/x-python",
   "name": "python",
   "nbconvert_exporter": "python",
   "pygments_lexer": "ipython3",
   "version": "3.4.0"
  }
 },
 "nbformat": 4,
 "nbformat_minor": 0
}
